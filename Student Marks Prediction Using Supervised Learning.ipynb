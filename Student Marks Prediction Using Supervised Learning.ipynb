{
 "cells": [
  {
   "cell_type": "markdown",
   "id": "eb9cf08f",
   "metadata": {},
   "source": [
    "# Student Marks Prediction Using Supervised Learning Algorithm"
   ]
  },
  {
   "cell_type": "markdown",
   "id": "fa61a213",
   "metadata": {},
   "source": [
    "### ● We would be predicting the marks of student based on the number of hours the student invests on studying by using Linear Regression Algorithm"
   ]
  },
  {
   "cell_type": "markdown",
   "id": "8044456f",
   "metadata": {},
   "source": [
    "### ● Linear Regression Algorithm is a kind of Supervised Learning Algorithm that's mainly used for predicting output values by looking at the pattern/relationship between the past input and output values"
   ]
  },
  {
   "cell_type": "code",
   "execution_count": 59,
   "id": "cfe6da66",
   "metadata": {},
   "outputs": [
    {
     "data": {
      "text/html": [
       "<div>\n",
       "<style scoped>\n",
       "    .dataframe tbody tr th:only-of-type {\n",
       "        vertical-align: middle;\n",
       "    }\n",
       "\n",
       "    .dataframe tbody tr th {\n",
       "        vertical-align: top;\n",
       "    }\n",
       "\n",
       "    .dataframe thead th {\n",
       "        text-align: right;\n",
       "    }\n",
       "</style>\n",
       "<table border=\"1\" class=\"dataframe\">\n",
       "  <thead>\n",
       "    <tr style=\"text-align: right;\">\n",
       "      <th></th>\n",
       "      <th>Hours</th>\n",
       "      <th>Scores</th>\n",
       "    </tr>\n",
       "  </thead>\n",
       "  <tbody>\n",
       "    <tr>\n",
       "      <th>0</th>\n",
       "      <td>2.5</td>\n",
       "      <td>21</td>\n",
       "    </tr>\n",
       "    <tr>\n",
       "      <th>1</th>\n",
       "      <td>5.1</td>\n",
       "      <td>47</td>\n",
       "    </tr>\n",
       "    <tr>\n",
       "      <th>2</th>\n",
       "      <td>3.2</td>\n",
       "      <td>27</td>\n",
       "    </tr>\n",
       "    <tr>\n",
       "      <th>3</th>\n",
       "      <td>8.5</td>\n",
       "      <td>75</td>\n",
       "    </tr>\n",
       "    <tr>\n",
       "      <th>4</th>\n",
       "      <td>3.5</td>\n",
       "      <td>30</td>\n",
       "    </tr>\n",
       "    <tr>\n",
       "      <th>5</th>\n",
       "      <td>1.5</td>\n",
       "      <td>20</td>\n",
       "    </tr>\n",
       "    <tr>\n",
       "      <th>6</th>\n",
       "      <td>9.2</td>\n",
       "      <td>88</td>\n",
       "    </tr>\n",
       "    <tr>\n",
       "      <th>7</th>\n",
       "      <td>5.5</td>\n",
       "      <td>60</td>\n",
       "    </tr>\n",
       "    <tr>\n",
       "      <th>8</th>\n",
       "      <td>8.3</td>\n",
       "      <td>81</td>\n",
       "    </tr>\n",
       "    <tr>\n",
       "      <th>9</th>\n",
       "      <td>2.7</td>\n",
       "      <td>25</td>\n",
       "    </tr>\n",
       "  </tbody>\n",
       "</table>\n",
       "</div>"
      ],
      "text/plain": [
       "   Hours  Scores\n",
       "0    2.5      21\n",
       "1    5.1      47\n",
       "2    3.2      27\n",
       "3    8.5      75\n",
       "4    3.5      30\n",
       "5    1.5      20\n",
       "6    9.2      88\n",
       "7    5.5      60\n",
       "8    8.3      81\n",
       "9    2.7      25"
      ]
     },
     "execution_count": 59,
     "metadata": {},
     "output_type": "execute_result"
    }
   ],
   "source": [
    "#Importing the library function required in the initial stage\n",
    "import pandas as pd\n",
    "import numpy as np\n",
    "#Importing the datasets (available in csv formats)\n",
    "stud = pd.read_csv('https://raw.githubusercontent.com/AdiPersonalWorks/Random/master/student_scores%20-%20student_scores.csv')\n",
    "stud.head(10) #displaying only the first 10 rows of our dataset"
   ]
  },
  {
   "cell_type": "code",
   "execution_count": 60,
   "id": "1a9f8a9b",
   "metadata": {},
   "outputs": [
    {
     "data": {
      "text/plain": [
       "(25, 2)"
      ]
     },
     "execution_count": 60,
     "metadata": {},
     "output_type": "execute_result"
    }
   ],
   "source": [
    "stud.shape"
   ]
  },
  {
   "cell_type": "code",
   "execution_count": 61,
   "id": "c43a71df",
   "metadata": {},
   "outputs": [
    {
     "name": "stdout",
     "output_type": "stream",
     "text": [
      "['Hours' 'Scores']\n"
     ]
    }
   ],
   "source": [
    "print(stud.columns.values)\n",
    "#So basically here we have 2 columns; one for input(Hours) and the other for output(Scores)"
   ]
  },
  {
   "cell_type": "code",
   "execution_count": 62,
   "id": "e30964a6",
   "metadata": {},
   "outputs": [],
   "source": [
    "#Storing the first column in variable X and second column in variable y\n",
    "X = stud.iloc[:,[0]]\n",
    "y = stud.iloc[:,[1]]"
   ]
  },
  {
   "cell_type": "markdown",
   "id": "76417798",
   "metadata": {},
   "source": [
    "### Our imported dataset has 25 instances and 2 columns named as Hours and Scores"
   ]
  },
  {
   "cell_type": "code",
   "execution_count": 71,
   "id": "89e2bb32",
   "metadata": {},
   "outputs": [
    {
     "data": {
      "image/png": "[encoded data removed]",
      "text/plain": [
       "<Figure size 432x288 with 1 Axes>"
      ]
     },
     "metadata": {
      "needs_background": "light"
     },
     "output_type": "display_data"
    }
   ],
   "source": [
    "#importing matplotlib liv=brary for plotting on graph\n",
    "from matplotlib import pyplot as plt\n",
    "plt.scatter(stud['Hours'],stud['Scores'])\n",
    "plt.xlabel('Hours',size=13)\n",
    "plt.ylabel('Marks (in %)',size=13)\n",
    "plt.title('Marks Scored Based On Time Invested In Studying', size=13)\n",
    "plt.show()"
   ]
  },
  {
   "cell_type": "markdown",
   "id": "5c047fae",
   "metadata": {},
   "source": [
    "### The above graph gives us an insight as to how the amount of hours student invested on studies varied with marks. It's crystal clear that as the student invested more hours on studies,higher was the score scored by the student"
   ]
  },
  {
   "cell_type": "markdown",
   "id": "bf7f3c8b",
   "metadata": {},
   "source": [
    "## Implementing linear regression algorithm"
   ]
  },
  {
   "cell_type": "code",
   "execution_count": 64,
   "id": "caac746b",
   "metadata": {},
   "outputs": [],
   "source": [
    "# importing linear regression model from sci-kit learn library\n",
    "from sklearn.linear_model import LinearRegression\n",
    "reg = LinearRegression()"
   ]
  },
  {
   "cell_type": "markdown",
   "id": "076a2294",
   "metadata": {},
   "source": [
    "### ● Training,Testing and Splitting the Datasets "
   ]
  },
  {
   "cell_type": "code",
   "execution_count": 65,
   "id": "652ddda4",
   "metadata": {},
   "outputs": [],
   "source": [
    "#Importing train,test and split module to split the datasets for training and testing\n",
    "from sklearn.model_selection import train_test_split\n",
    "X_train, X_test, y_train, y_test = train_test_split(X, y, test_size=0.4) #40% of the datsets will be used for testing"
   ]
  },
  {
   "cell_type": "code",
   "execution_count": 66,
   "id": "eba4ed0b",
   "metadata": {},
   "outputs": [
    {
     "name": "stdout",
     "output_type": "stream",
     "text": [
      "(15, 1)\n",
      "(10, 1)\n",
      "(15, 1)\n",
      "(10, 1)\n"
     ]
    }
   ],
   "source": [
    "print(X_train.shape)\n",
    "print(X_test.shape)\n",
    "print(y_train.shape)\n",
    "print(y_test.shape)"
   ]
  },
  {
   "cell_type": "markdown",
   "id": "5a1538fb",
   "metadata": {},
   "source": [
    "### Since our datsets had 25 instances 60% of the datasets that is 15 instances are being utilized for training our model and the rest 40% of datasets are used for testing"
   ]
  },
  {
   "cell_type": "code",
   "execution_count": 67,
   "id": "87ff5774",
   "metadata": {},
   "outputs": [
    {
     "data": {
      "text/plain": [
       "LinearRegression()"
      ]
     },
     "execution_count": 67,
     "metadata": {},
     "output_type": "execute_result"
    }
   ],
   "source": [
    "#Fitting the model(training)\n",
    "reg.fit(X_train, y_train)"
   ]
  },
  {
   "cell_type": "code",
   "execution_count": 68,
   "id": "ba5d7ea9",
   "metadata": {},
   "outputs": [
    {
     "data": {
      "text/plain": [
       "array([[45.8836607 ],\n",
       "       [81.47042787],\n",
       "       [27.15378324],\n",
       "       [27.15378324],\n",
       "       [75.85146463],\n",
       "       [48.69314232],\n",
       "       [29.02677099],\n",
       "       [34.64573423],\n",
       "       [58.99457492],\n",
       "       [87.08939111]])"
      ]
     },
     "execution_count": 68,
     "metadata": {},
     "output_type": "execute_result"
    }
   ],
   "source": [
    "#Predicting the output(testing)\n",
    "reg.predict(X_test)"
   ]
  },
  {
   "cell_type": "code",
   "execution_count": 69,
   "id": "e36cc21f",
   "metadata": {},
   "outputs": [
    {
     "data": {
      "text/plain": [
       "0.948210238852648"
      ]
     },
     "execution_count": 69,
     "metadata": {},
     "output_type": "execute_result"
    }
   ],
   "source": [
    "# Finding the accuracy of our model\n",
    "reg.score(X_test,y_test)"
   ]
  },
  {
   "cell_type": "markdown",
   "id": "25865784",
   "metadata": {},
   "source": [
    "## Conclusion : Overall accuracy of our model is 94.82%"
   ]
  },
  {
   "cell_type": "markdown",
   "id": "06513d31",
   "metadata": {},
   "source": [
    "### What will be the predicted score if a student studies 9.25 hours per day?"
   ]
  },
  {
   "cell_type": "code",
   "execution_count": 70,
   "id": "b120ec10",
   "metadata": {},
   "outputs": [
    {
     "data": {
      "text/plain": [
       "array([[90.36711967]])"
      ]
     },
     "execution_count": 70,
     "metadata": {},
     "output_type": "execute_result"
    }
   ],
   "source": [
    "reg.predict([[9.25]])"
   ]
  },
  {
   "cell_type": "markdown",
   "id": "bb0cf561",
   "metadata": {},
   "source": [
    "### Predicted score when a student studies 9.25 hours per day is 90.367%"
   ]
  }
 ],
 "metadata": {
  "kernelspec": {
   "display_name": "Python 3",
   "language": "python",
   "name": "python3"
  },
  "language_info": {
   "codemirror_mode": {
    "name": "ipython",
    "version": 3
   },
   "file_extension": ".py",
   "mimetype": "text/x-python",
   "name": "python",
   "nbconvert_exporter": "python",
   "pygments_lexer": "ipython3",
   "version": "3.8.8"
  }
 },
 "nbformat": 4,
 "nbformat_minor": 5
}
